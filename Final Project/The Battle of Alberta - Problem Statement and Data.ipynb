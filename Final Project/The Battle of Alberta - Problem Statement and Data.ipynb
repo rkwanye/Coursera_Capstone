{
    "cells": [
        {
            "cell_type": "markdown",
            "metadata": {
                "collapsed": true
            },
            "source": "# The Battle of Alberta - Clustering Neighbourhoods in Calgary and Edmonton\n\n## Introduction\n\nThe **Battle of Alberta** is used to refer to the rivalry between the two largest cities in the province of Alberta, Canada - Calgary and Edmonton. The term  is mostly used in comparing sporting events between sports teams in these two cities. However, it is sometimes used in any comparison between these two cities. For more about the origins of the Battle of Alberta, see the [wikipedia page](https://en.wikipedia.org/wiki/Battle_of_Alberta).\nEdmonton is the administrative capital of the province, whilst Calgary is the largest city in the province and also recognised as a leader in the Canadian oil and gas industry.\n\nWhile public discourse focuses on their differences, these two cities are mostly similar whether it be about their demographics, the outdoor and urban adventures they offer, the food scene and urban planning."
        },
        {
            "cell_type": "markdown",
            "metadata": {},
            "source": "## Business Problem\n\nThe aim of this project is to determine how similar Caglary and Edmonton are, in terms of the experiences neighbourhoods in each city have to offer. This will not only contribute to the Battle of Alberta debate but can also help anyone looking to settle or emigrate to Alberta make a decision. To this end, recommendations will be provided  to advise a person on a limited budget looking to settle in Alberta."
        },
        {
            "cell_type": "markdown",
            "metadata": {},
            "source": "## Data Description\n\nTo solve this problem, we will require three datasets. The three required sets of data are: neighbourhood data, geographical location data and real estate pricing data. Postal codes in the two cities will be used in obtaining the two sets of data.\nInformation about the various venues in a specific neighbourhood is also required. For this, the Foursquare API will be used to get this data.\n\n### Neighbourhood Data\n\nThe location data will be obtained by scraping postal codes information on [wikipedia](https://en.wikipedia.org/wiki/List_of_postal_codes_of_Canada:_T) for Alberta. The information on wikipedia has postal codes by borough and neighbourhood names, this will help us limit ourselves to Calgary and Edmonton. The wikipedia page also has latitude and longitudes for all postal codes. The neighbourhood data will consist of the following:\n* Postal code\n* Borough\n* Neighbourhood\n* Latitude\n* Longitude\n\n### Real Estate Pricing Data\nTo get the real estate pricing data, the HousePriceHub [website](https://housepricehub.com/) will be scrapped for house pricing in Calgary and Edmonton. HousePriceHub tracks the listing prices of houses in Canada, as well as provides insights on the real estate market in Canada. The real estate pricing data will consist of the following:\n* Postal code\n* Average Price\n* Total listings\n\n### Foursquare API Data\nIn order to get specific neighbourhood information, the Foursquare API will be used. Foursquare is a geographical location data provider with information about venues and events within an area of interest. This location data includes venue names, locations, menus, photos and sometimes ratings. The neighbourhood information of Calgary and Edmonton will be connected to the Foursquare API and venues in each neighbourhood within a 500 meter radius will be obtained. The Foursquare API data will consist of the following:\n* Neighbourhood\n* Neighbourhood Latitude\n* Neighbourhood Longitude\n* Venue\n* Venue Name\n* Venue Latitude\n* Venue Longitude\n* Venue Category\n\nThese three data sets will assist us in determining the similarities between neighbourhoods in Calgary and Edmonton."
        },
        {
            "cell_type": "markdown",
            "metadata": {},
            "source": "## Methodology\nThe problem to be solved involves grouping various neighbourhoods in both cities based on their similarities. To this end, neighbourhoods will be explored, segmented and grouped to find similar neighbourhoods. This will be approached analytically by using the KMeans clustering algorithm. All the neighbourhoods in Calgary and Edmonton will be explored to find the 10 most common venue categories in each neighbourhood and cluster them using KMeans clustering.\n\nFinally, the most similar neighbourhoods will be selected and their real estate prices compared. A recommendation will be provided to advise , a person looking to settle in Alberta with a limited budget on which city to choose.\n"
        },
        {
            "cell_type": "code",
            "execution_count": null,
            "metadata": {},
            "outputs": [],
            "source": ""
        }
    ],
    "metadata": {
        "kernelspec": {
            "display_name": "Python 3.7",
            "language": "python",
            "name": "python3"
        },
        "language_info": {
            "codemirror_mode": {
                "name": "ipython",
                "version": 3
            },
            "file_extension": ".py",
            "mimetype": "text/x-python",
            "name": "python",
            "nbconvert_exporter": "python",
            "pygments_lexer": "ipython3",
            "version": "3.7.10"
        }
    },
    "nbformat": 4,
    "nbformat_minor": 1
}