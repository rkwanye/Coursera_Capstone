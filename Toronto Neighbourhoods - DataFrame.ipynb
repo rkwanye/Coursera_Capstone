{
    "cells": [
        {
            "metadata": {
                "collapsed": true
            },
            "cell_type": "markdown",
            "source": "# Scraping Postal Codes in Toronto from Wikipedia"
        },
        {
            "metadata": {},
            "cell_type": "code",
            "source": "# Libraries\nimport pandas as pd\nfrom bs4 import BeautifulSoup\nimport requests",
            "execution_count": 1,
            "outputs": []
        },
        {
            "metadata": {},
            "cell_type": "markdown",
            "source": "Set up the url and send request"
        },
        {
            "metadata": {},
            "cell_type": "code",
            "source": "url = 'https://en.wikipedia.org/wiki/List_of_postal_codes_of_Canada:_M'\nhtml_data = requests.get(url).text",
            "execution_count": 2,
            "outputs": []
        },
        {
            "metadata": {},
            "cell_type": "markdown",
            "source": "Use the beautiful soup library to parse the html information from the url"
        },
        {
            "metadata": {},
            "cell_type": "code",
            "source": "soup = BeautifulSoup(html_data, 'html.parser')\n#print(soup.prettify()) # uncomment to see html_data in neat format",
            "execution_count": 3,
            "outputs": []
        },
        {
            "metadata": {},
            "cell_type": "markdown",
            "source": "We want to get the list of postal codes and the various Boroughs and Neighbourhoods listed. There appears to be only one table in the html data. Let's see what the table contains"
        },
        {
            "metadata": {},
            "cell_type": "code",
            "source": "# Get table\ntable = soup.find_all('table')\n#table # uncomment to see the html table",
            "execution_count": 4,
            "outputs": []
        },
        {
            "metadata": {},
            "cell_type": "markdown",
            "source": "After inspecting the table on the website as well as the html here, the data we want to scrap is contained in various text boxes. The text boxes are contained in the 'td' tag. Each text box contains 2 or more lines. The first line represents the Postal Code, the second line represents the the Borough, and the third line if it exists contains the Neighbourhood information."
        },
        {
            "metadata": {},
            "cell_type": "code",
            "source": "textboxes = soup.find_all('td')\n\n# View one text box\nprint(soup.find_all('td')[3].prettify())",
            "execution_count": 5,
            "outputs": [
                {
                    "output_type": "stream",
                    "text": "<td style=\"width:11%; vertical-align:top;\">\n <p>\n  <b>\n   M4A\n  </b>\n  <br/>\n  <span style=\"font-size:85%;\">\n   <a href=\"/wiki/North_York\" title=\"North York\">\n    North York\n   </a>\n   <br/>\n   (\n   <a href=\"/wiki/Victoria_Village\" title=\"Victoria Village\">\n    Victoria Village\n   </a>\n   )\n  </span>\n </p>\n</td>\n\n",
                    "name": "stdout"
                }
            ]
        },
        {
            "metadata": {},
            "cell_type": "markdown",
            "source": "The postal codes are contained in the 'b' tag of the html. Let's take a look at one of them."
        },
        {
            "metadata": {},
            "cell_type": "code",
            "source": "postalcode = textboxes[3].find('b')\nprint(postalcode)\nprint('\\nIn neat format:')\nprint(soup.find_all('b')[3].prettify())",
            "execution_count": 6,
            "outputs": [
                {
                    "output_type": "stream",
                    "text": "<b>M4A</b>\n\nIn neat format:\n<b>\n M4A\n</b>\n\n",
                    "name": "stdout"
                }
            ]
        },
        {
            "metadata": {},
            "cell_type": "code",
            "source": "# The text for postal code\npostalcode.text",
            "execution_count": 7,
            "outputs": [
                {
                    "output_type": "execute_result",
                    "execution_count": 7,
                    "data": {
                        "text/plain": "'M4A'"
                    },
                    "metadata": {}
                }
            ]
        },
        {
            "metadata": {},
            "cell_type": "markdown",
            "source": "The rest of the text that we need, for Boroughs and Neigbourhoods is contained in the 'span' tag."
        },
        {
            "metadata": {},
            "cell_type": "code",
            "source": "borough_neigh = textboxes[3].find('span')\nprint(borough_neigh)\nprint('\\nIn neat format:')\nprint(soup.find('table').find_all('span')[3].prettify())",
            "execution_count": 8,
            "outputs": [
                {
                    "output_type": "stream",
                    "text": "<span style=\"font-size:85%;\"><a href=\"/wiki/North_York\" title=\"North York\">North York</a><br/>(<a href=\"/wiki/Victoria_Village\" title=\"Victoria Village\">Victoria Village</a>)</span>\n\nIn neat format:\n<span style=\"font-size:85%;\">\n <a href=\"/wiki/North_York\" title=\"North York\">\n  North York\n </a>\n <br/>\n (\n <a href=\"/wiki/Victoria_Village\" title=\"Victoria Village\">\n  Victoria Village\n </a>\n )\n</span>\n\n",
                    "name": "stdout"
                }
            ]
        },
        {
            "metadata": {},
            "cell_type": "markdown",
            "source": "The text under the 'span' tag contains both the borough and neighbourhood information. We observe that, the information for borough is always the text before the first open bracket, and the text for neighbourhood(s) is within the brackets. We will extract them as such."
        },
        {
            "metadata": {},
            "cell_type": "code",
            "source": "# The text for borough\nborough = textboxes[3].find_all('span')[0].text.split('(')[0]\nborough",
            "execution_count": 9,
            "outputs": [
                {
                    "output_type": "execute_result",
                    "execution_count": 9,
                    "data": {
                        "text/plain": "'North York'"
                    },
                    "metadata": {}
                }
            ]
        },
        {
            "metadata": {},
            "cell_type": "code",
            "source": "# The text for neighbourhood\nneighbourhood = textboxes[3].find_all('span')[0].text.split('(')[1][0:-1]\nprint(neighbourhood)",
            "execution_count": 10,
            "outputs": [
                {
                    "output_type": "stream",
                    "text": "Victoria Village\n",
                    "name": "stdout"
                }
            ]
        },
        {
            "metadata": {},
            "cell_type": "markdown",
            "source": "Now that we know where all the information is, and how to extract them, let us scrap it into a dictionary that we will later convert into a dataframe."
        },
        {
            "metadata": {},
            "cell_type": "code",
            "source": "# Initialize dictionary\ntoronto = {'Postal Code': [], 'Borough': [], 'Neighbourhood': []}\n\n# Go through the textboxes, extract the needed information\nfor textbox in textboxes:\n    pcodes = textbox.find('b') # postal codes\n    bhoods = textbox.find_all('span') # boroughs and neighbourhoods information\n    \n    # Not all postal codes has neighbourhood information - eliminate them\n    try:\n        if '(' not in bhoods[0].text:\n            toronto['Neighbourhood'].append('NA')\n    except: IndexError\n        \n    # Append extracted information to dictionary\n    try:\n        for pcode in pcodes:\n            toronto['Postal Code'].append(pcode)\n        toronto['Borough'].append(bhoods[0].text.split('(')[0])\n        toronto['Neighbourhood'].append(bhoods[0].text.split('(')[1][0:-1].replace(' / ', ', '))\n    except: None\n\n# Check to make sure all the list of of equal length        \nprint(\"The length of Postal Code is {}\".format(len(toronto['Postal Code'])))\nprint(\"The length of Borough is {}\".format(len(toronto['Borough'])))\nprint(\"The length of Neighbourhood is {}\".format(len(toronto['Neighbourhood'])))        \n\n#toronto # uncomment to see dictionary",
            "execution_count": 11,
            "outputs": [
                {
                    "output_type": "stream",
                    "text": "The length of Postal Code is 180\nThe length of Borough is 180\nThe length of Neighbourhood is 180\n",
                    "name": "stdout"
                }
            ]
        },
        {
            "metadata": {},
            "cell_type": "markdown",
            "source": "Convert the dictionary into a dataframe"
        },
        {
            "metadata": {},
            "cell_type": "code",
            "source": "df_toronto = pd.DataFrame(toronto)\n\n# Make sure all postal codes are extracted\nprint(\"The dataframe contains {} rows and {} columns.\".format(df_toronto.shape[0], df_toronto.shape[1]))\nprint(\"\\nThe head:\\n{}\".format(df_toronto.head(2)))\nprint(\"\\nThe tail:\\n{}\".format(df_toronto.tail(2)))",
            "execution_count": 12,
            "outputs": [
                {
                    "output_type": "stream",
                    "text": "The dataframe contains 180 rows and 3 columns.\n\nThe head:\n  Postal Code       Borough Neighbourhood\n0         M1A  Not assigned            NA\n1         M2A  Not assigned            NA\n\nThe tail:\n    Postal Code       Borough  \\\n178         M8Z     Etobicoke   \n179         M9Z  Not assigned   \n\n                                         Neighbourhood  \n178  Mimico NW, The Queensway West, South of Bloor,...  \n179                                                 NA  \n",
                    "name": "stdout"
                }
            ]
        },
        {
            "metadata": {},
            "cell_type": "markdown",
            "source": "Remove postal codes that are not yet assigned"
        },
        {
            "metadata": {},
            "cell_type": "code",
            "source": "df_toronto = df_toronto[df_toronto.Borough != 'Not assigned'].reset_index(drop = True)\ndf_toronto",
            "execution_count": 13,
            "outputs": [
                {
                    "output_type": "execute_result",
                    "execution_count": 13,
                    "data": {
                        "text/plain": "    Postal Code                                            Borough  \\\n0           M3A                                         North York   \n1           M4A                                         North York   \n2           M5A                                   Downtown Toronto   \n3           M6A                                         North York   \n4           M7A                                       Queen's Park   \n..          ...                                                ...   \n98          M8X                                          Etobicoke   \n99          M4Y                                   Downtown Toronto   \n100         M7Y  East TorontoBusiness reply mail Processing Cen...   \n101         M8Y                                          Etobicoke   \n102         M8Z                                          Etobicoke   \n\n                                         Neighbourhood  \n0                                            Parkwoods  \n1                                     Victoria Village  \n2                            Regent Park, Harbourfront  \n3                     Lawrence Manor, Lawrence Heights  \n4                        Ontario Provincial Government  \n..                                                 ...  \n98       The Kingsway, Montgomery Road, Old Mill North  \n99                                Church and Wellesley  \n100                                     Enclave of M4L  \n101  Old Mill South, King's Mill Park, Sunnylea, Hu...  \n102  Mimico NW, The Queensway West, South of Bloor,...  \n\n[103 rows x 3 columns]",
                        "text/html": "<div>\n<style scoped>\n    .dataframe tbody tr th:only-of-type {\n        vertical-align: middle;\n    }\n\n    .dataframe tbody tr th {\n        vertical-align: top;\n    }\n\n    .dataframe thead th {\n        text-align: right;\n    }\n</style>\n<table border=\"1\" class=\"dataframe\">\n  <thead>\n    <tr style=\"text-align: right;\">\n      <th></th>\n      <th>Postal Code</th>\n      <th>Borough</th>\n      <th>Neighbourhood</th>\n    </tr>\n  </thead>\n  <tbody>\n    <tr>\n      <th>0</th>\n      <td>M3A</td>\n      <td>North York</td>\n      <td>Parkwoods</td>\n    </tr>\n    <tr>\n      <th>1</th>\n      <td>M4A</td>\n      <td>North York</td>\n      <td>Victoria Village</td>\n    </tr>\n    <tr>\n      <th>2</th>\n      <td>M5A</td>\n      <td>Downtown Toronto</td>\n      <td>Regent Park, Harbourfront</td>\n    </tr>\n    <tr>\n      <th>3</th>\n      <td>M6A</td>\n      <td>North York</td>\n      <td>Lawrence Manor, Lawrence Heights</td>\n    </tr>\n    <tr>\n      <th>4</th>\n      <td>M7A</td>\n      <td>Queen's Park</td>\n      <td>Ontario Provincial Government</td>\n    </tr>\n    <tr>\n      <th>...</th>\n      <td>...</td>\n      <td>...</td>\n      <td>...</td>\n    </tr>\n    <tr>\n      <th>98</th>\n      <td>M8X</td>\n      <td>Etobicoke</td>\n      <td>The Kingsway, Montgomery Road, Old Mill North</td>\n    </tr>\n    <tr>\n      <th>99</th>\n      <td>M4Y</td>\n      <td>Downtown Toronto</td>\n      <td>Church and Wellesley</td>\n    </tr>\n    <tr>\n      <th>100</th>\n      <td>M7Y</td>\n      <td>East TorontoBusiness reply mail Processing Cen...</td>\n      <td>Enclave of M4L</td>\n    </tr>\n    <tr>\n      <th>101</th>\n      <td>M8Y</td>\n      <td>Etobicoke</td>\n      <td>Old Mill South, King's Mill Park, Sunnylea, Hu...</td>\n    </tr>\n    <tr>\n      <th>102</th>\n      <td>M8Z</td>\n      <td>Etobicoke</td>\n      <td>Mimico NW, The Queensway West, South of Bloor,...</td>\n    </tr>\n  </tbody>\n</table>\n<p>103 rows \u00d7 3 columns</p>\n</div>"
                    },
                    "metadata": {}
                }
            ]
        },
        {
            "metadata": {},
            "cell_type": "code",
            "source": "df_toronto.shape",
            "execution_count": 14,
            "outputs": [
                {
                    "output_type": "execute_result",
                    "execution_count": 14,
                    "data": {
                        "text/plain": "(103, 3)"
                    },
                    "metadata": {}
                }
            ]
        },
        {
            "metadata": {},
            "cell_type": "markdown",
            "source": "Get latitude and longitude information using either geocoder or this url (https://cocl.us/Geospatial_data)"
        },
        {
            "metadata": {
                "scrolled": true
            },
            "cell_type": "code",
            "source": "df_latlong = pd.read_csv('https://cocl.us/Geospatial_data')\ndf_latlong.head()",
            "execution_count": 15,
            "outputs": [
                {
                    "output_type": "execute_result",
                    "execution_count": 15,
                    "data": {
                        "text/plain": "  Postal Code   Latitude  Longitude\n0         M1B  43.806686 -79.194353\n1         M1C  43.784535 -79.160497\n2         M1E  43.763573 -79.188711\n3         M1G  43.770992 -79.216917\n4         M1H  43.773136 -79.239476",
                        "text/html": "<div>\n<style scoped>\n    .dataframe tbody tr th:only-of-type {\n        vertical-align: middle;\n    }\n\n    .dataframe tbody tr th {\n        vertical-align: top;\n    }\n\n    .dataframe thead th {\n        text-align: right;\n    }\n</style>\n<table border=\"1\" class=\"dataframe\">\n  <thead>\n    <tr style=\"text-align: right;\">\n      <th></th>\n      <th>Postal Code</th>\n      <th>Latitude</th>\n      <th>Longitude</th>\n    </tr>\n  </thead>\n  <tbody>\n    <tr>\n      <th>0</th>\n      <td>M1B</td>\n      <td>43.806686</td>\n      <td>-79.194353</td>\n    </tr>\n    <tr>\n      <th>1</th>\n      <td>M1C</td>\n      <td>43.784535</td>\n      <td>-79.160497</td>\n    </tr>\n    <tr>\n      <th>2</th>\n      <td>M1E</td>\n      <td>43.763573</td>\n      <td>-79.188711</td>\n    </tr>\n    <tr>\n      <th>3</th>\n      <td>M1G</td>\n      <td>43.770992</td>\n      <td>-79.216917</td>\n    </tr>\n    <tr>\n      <th>4</th>\n      <td>M1H</td>\n      <td>43.773136</td>\n      <td>-79.239476</td>\n    </tr>\n  </tbody>\n</table>\n</div>"
                    },
                    "metadata": {}
                }
            ]
        },
        {
            "metadata": {},
            "cell_type": "markdown",
            "source": "Merge the postal code data from wikipedia to the latitudes and longitudes data."
        },
        {
            "metadata": {},
            "cell_type": "code",
            "source": "df_torontolatlong = pd.merge(df_toronto, df_latlong, how = 'left', on = ['Postal Code', 'Postal Code'])\ndf_torontolatlong.head()",
            "execution_count": 16,
            "outputs": [
                {
                    "output_type": "execute_result",
                    "execution_count": 16,
                    "data": {
                        "text/plain": "  Postal Code           Borough                     Neighbourhood   Latitude  \\\n0         M3A        North York                         Parkwoods  43.753259   \n1         M4A        North York                  Victoria Village  43.725882   \n2         M5A  Downtown Toronto         Regent Park, Harbourfront  43.654260   \n3         M6A        North York  Lawrence Manor, Lawrence Heights  43.718518   \n4         M7A      Queen's Park     Ontario Provincial Government  43.662301   \n\n   Longitude  \n0 -79.329656  \n1 -79.315572  \n2 -79.360636  \n3 -79.464763  \n4 -79.389494  ",
                        "text/html": "<div>\n<style scoped>\n    .dataframe tbody tr th:only-of-type {\n        vertical-align: middle;\n    }\n\n    .dataframe tbody tr th {\n        vertical-align: top;\n    }\n\n    .dataframe thead th {\n        text-align: right;\n    }\n</style>\n<table border=\"1\" class=\"dataframe\">\n  <thead>\n    <tr style=\"text-align: right;\">\n      <th></th>\n      <th>Postal Code</th>\n      <th>Borough</th>\n      <th>Neighbourhood</th>\n      <th>Latitude</th>\n      <th>Longitude</th>\n    </tr>\n  </thead>\n  <tbody>\n    <tr>\n      <th>0</th>\n      <td>M3A</td>\n      <td>North York</td>\n      <td>Parkwoods</td>\n      <td>43.753259</td>\n      <td>-79.329656</td>\n    </tr>\n    <tr>\n      <th>1</th>\n      <td>M4A</td>\n      <td>North York</td>\n      <td>Victoria Village</td>\n      <td>43.725882</td>\n      <td>-79.315572</td>\n    </tr>\n    <tr>\n      <th>2</th>\n      <td>M5A</td>\n      <td>Downtown Toronto</td>\n      <td>Regent Park, Harbourfront</td>\n      <td>43.654260</td>\n      <td>-79.360636</td>\n    </tr>\n    <tr>\n      <th>3</th>\n      <td>M6A</td>\n      <td>North York</td>\n      <td>Lawrence Manor, Lawrence Heights</td>\n      <td>43.718518</td>\n      <td>-79.464763</td>\n    </tr>\n    <tr>\n      <th>4</th>\n      <td>M7A</td>\n      <td>Queen's Park</td>\n      <td>Ontario Provincial Government</td>\n      <td>43.662301</td>\n      <td>-79.389494</td>\n    </tr>\n  </tbody>\n</table>\n</div>"
                    },
                    "metadata": {}
                }
            ]
        },
        {
            "metadata": {},
            "cell_type": "code",
            "source": "print(\"The dataframe contains {} rows and {} columns.\".format(df_torontolatlong.shape[0], df_torontolatlong.shape[1]))",
            "execution_count": 17,
            "outputs": [
                {
                    "output_type": "stream",
                    "text": "The dataframe contains 103 rows and 5 columns.\n",
                    "name": "stdout"
                }
            ]
        },
        {
            "metadata": {},
            "cell_type": "code",
            "source": "\n",
            "execution_count": null,
            "outputs": []
        }
    ],
    "metadata": {
        "kernelspec": {
            "name": "python3",
            "display_name": "Python 3.7",
            "language": "python"
        },
        "language_info": {
            "name": "python",
            "version": "3.7.10",
            "mimetype": "text/x-python",
            "codemirror_mode": {
                "name": "ipython",
                "version": 3
            },
            "pygments_lexer": "ipython3",
            "nbconvert_exporter": "python",
            "file_extension": ".py"
        }
    },
    "nbformat": 4,
    "nbformat_minor": 1
}